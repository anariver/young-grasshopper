{
 "cells": [
  {
   "cell_type": "markdown",
   "metadata": {},
   "source": [
    "# Data types"
   ]
  },
  {
   "cell_type": "markdown",
   "metadata": {},
   "source": [
    "There's a lot of different data types in Python, but we let's just worry about the basic most important ones:\n",
    "- strings (words, anything with \" \" or ' ' around them, even numbers)\n",
    "- int (integers, any whole numbers positive or negative)\n",
    "- float (fractions, or numbers with a decimal point in them)\n",
    "- bool (True or False, or 1 or 0 (in Python))"
   ]
  },
  {
   "cell_type": "markdown",
   "metadata": {},
   "source": [
    "Why is this important?\n",
    "Well suppose you read in a file (we'll cover file IO later 3:), and all the data in it imports as strings. Suppose it's all just numbers, and you wanna add them all up.\n",
    "\n",
    "Let's say when you imported the file, you got the numbers 1,1,1,1,1. (five 1's)."
   ]
  },
  {
   "cell_type": "markdown",
   "metadata": {},
   "source": [
    "Let's try adding them all up! Remember, they're currently all strings..."
   ]
  },
  {
   "cell_type": "code",
   "execution_count": 10,
   "metadata": {
    "collapsed": false
   },
   "outputs": [
    {
     "name": "stdout",
     "output_type": "stream",
     "text": [
      "1\n",
      "11111\n"
     ]
    }
   ],
   "source": [
    "# assume you read and assigned a variable to each data found in the file\n",
    "# (we'll learn in the future that this is NOT the way you should read from a file)\n",
    "data1 = \"1\"\n",
    "data2 = \"1\"\n",
    "data3 = \"1\"\n",
    "data4 = \"1\"\n",
    "data5 = \"1\"\n",
    "\n",
    "# try printing out the data, nothing special\n",
    "print data1\n",
    "\n",
    "# now, add up all the datas! five 1's, should be 5, right?\n",
    "print data1 + data2 + data3 + data4 + data5"
   ]
  },
  {
   "cell_type": "markdown",
   "metadata": {},
   "source": [
    "Whaaaaaaaaaaaaaaaaaaaaat? oh yeah, we're adding strings duh!\n",
    "But it's super easy to fix this! With cool built in functions from Python we can convert between types, as long as it's not impossible. First, let's try to print out the type of these variables."
   ]
  },
  {
   "cell_type": "code",
   "execution_count": 4,
   "metadata": {
    "collapsed": false
   },
   "outputs": [
    {
     "name": "stdout",
     "output_type": "stream",
     "text": [
      "<type 'str'>\n"
     ]
    }
   ],
   "source": [
    "print type(data1)"
   ]
  },
  {
   "cell_type": "markdown",
   "metadata": {},
   "source": [
    "The type() method returns the type of the data inside the paranthesis. Here, we see the data read in from the file is in fact a string! Let's try to convert it to an integer!"
   ]
  },
  {
   "cell_type": "code",
   "execution_count": 5,
   "metadata": {
    "collapsed": true
   },
   "outputs": [],
   "source": [
    "data1 = int(data1)"
   ]
  },
  {
   "cell_type": "markdown",
   "metadata": {},
   "source": [
    "What was that? O yeah, I reassigned the variable to itself, but converted it to an int first, by literally just saying int(). Python is so cool...\n",
    "\n",
    "Let's verify this!"
   ]
  },
  {
   "cell_type": "code",
   "execution_count": 6,
   "metadata": {
    "collapsed": false
   },
   "outputs": [
    {
     "name": "stdout",
     "output_type": "stream",
     "text": [
      "<type 'int'>\n"
     ]
    }
   ],
   "source": [
    "print type(data1)"
   ]
  },
  {
   "cell_type": "markdown",
   "metadata": {},
   "source": [
    "Witchcraft? No, just nerds doing nerdy stuffs to make this possible. Now let's convert all the variables to ints so we can add them up and actually get 5! (Like how math works...)"
   ]
  },
  {
   "cell_type": "code",
   "execution_count": 7,
   "metadata": {
    "collapsed": false
   },
   "outputs": [
    {
     "name": "stdout",
     "output_type": "stream",
     "text": [
      "5\n"
     ]
    }
   ],
   "source": [
    "# data1 is already converted\n",
    "data2 = int(data2)\n",
    "data3 = int(data3)\n",
    "data4 = int(data4)\n",
    "data5 = int(data5)\n",
    "\n",
    "# let's try this again!\n",
    "print data1 + data2 + data3 + data4 + data5"
   ]
  },
  {
   "cell_type": "markdown",
   "metadata": {},
   "source": [
    "YAAAAAAAAAAAAAAAAAAAAY!\n",
    "\n",
    "Just like this, it's possible to convert these variables back to a string! How? Yep, you're right, just try this:"
   ]
  },
  {
   "cell_type": "code",
   "execution_count": 9,
   "metadata": {
    "collapsed": false
   },
   "outputs": [
    {
     "name": "stdout",
     "output_type": "stream",
     "text": [
      "<type 'int'>\n",
      "<type 'str'>\n"
     ]
    }
   ],
   "source": [
    "print type(data1)\n",
    "\n",
    "data1 = str(data1) # convert here\n",
    "\n",
    "print type(data1)"
   ]
  },
  {
   "cell_type": "markdown",
   "metadata": {},
   "source": [
    "YAAAAAAAAAAAAAAAAAAAAAAY again! You can also do this between floats by float()."
   ]
  }
 ],
 "metadata": {
  "kernelspec": {
   "display_name": "Python 2",
   "language": "python",
   "name": "python2"
  },
  "language_info": {
   "codemirror_mode": {
    "name": "ipython",
    "version": 2
   },
   "file_extension": ".py",
   "mimetype": "text/x-python",
   "name": "python",
   "nbconvert_exporter": "python",
   "pygments_lexer": "ipython2",
   "version": "2.7.11"
  }
 },
 "nbformat": 4,
 "nbformat_minor": 0
}
