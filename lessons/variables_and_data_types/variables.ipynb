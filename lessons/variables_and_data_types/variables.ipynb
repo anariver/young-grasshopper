{
 "cells": [
  {
   "cell_type": "markdown",
   "metadata": {},
   "source": [
    "# Variables"
   ]
  },
  {
   "cell_type": "markdown",
   "metadata": {},
   "source": [
    "#### Why variables?"
   ]
  },
  {
   "cell_type": "markdown",
   "metadata": {},
   "source": [
    "Suppose you're given a huge number, and you're supposed to do a bunch of stuffs to it.\n",
    "Take the number 543875634875634875"
   ]
  },
  {
   "cell_type": "markdown",
   "metadata": {},
   "source": [
    "That's a huge number, right? Ok, now add 634875683475 to it, subtract 5687436538, multiply by 7797, mod it by 74837584, then divide by 9995435738.432. Oh, and print them all out while you're doing these operations, and then at last print out both the original and the new number."
   ]
  },
  {
   "cell_type": "markdown",
   "metadata": {},
   "source": [
    "Let's try to do it without variables first, then the cool way"
   ]
  },
  {
   "cell_type": "code",
   "execution_count": 1,
   "metadata": {
    "collapsed": false
   },
   "outputs": [
    {
     "name": "stdout",
     "output_type": "stream",
     "text": [
      "543875634875634875\n",
      "543876269751318350\n",
      "543876264063881812\n",
      "4240603230906086488164\n",
      "8836324\n",
      "0.000884035897107\n",
      "Original number was 543875634875634875\n",
      "The new number is 0.000884035897107\n"
     ]
    }
   ],
   "source": [
    "# without variables (UGLYYYYYY)\n",
    "\n",
    "print 543875634875634875\n",
    "print 543875634875634875 + 634875683475\n",
    "print 543875634875634875 + 634875683475 - 5687436538\n",
    "print (543875634875634875 + 634875683475 - 5687436538) * 7797\n",
    "print ((543875634875634875 + 634875683475 - 5687436538) * 7797) % 74837584\n",
    "print (((543875634875634875 + 634875683475 - 5687436538) * 7797) % 74837584) \\\n",
    "/ 9995435738.432\n",
    "\n",
    "print \"Original number was 543875634875634875\"\n",
    "print \"The new number is\", (((543875634875634875 + 634875683475 - 5687436538)\\\n",
    "                             * 7797) % 74837584) / 9995435738.432"
   ]
  },
  {
   "cell_type": "code",
   "execution_count": 2,
   "metadata": {
    "collapsed": false
   },
   "outputs": [
    {
     "name": "stdout",
     "output_type": "stream",
     "text": [
      "543875634875634875\n",
      "543876269751318350\n",
      "543876264063881812\n",
      "4240603230906086488164\n",
      "8836324\n",
      "0.000884035897107\n",
      "Original number was 543875634875634875\n",
      "The new number is 0.000884035897107\n"
     ]
    }
   ],
   "source": [
    "# with variables\n",
    "\n",
    "number = original_number = 543875634875634875\n",
    "add_num = 634875683475\n",
    "sub_num = 5687436538\n",
    "mul_num = 7797\n",
    "mod_num = 74837584\n",
    "div_num = 9995435738.432\n",
    "\n",
    "print number\n",
    "\n",
    "number += add_num\n",
    "print number\n",
    "\n",
    "number -= sub_num\n",
    "print number\n",
    "\n",
    "number *= mul_num\n",
    "print number\n",
    "\n",
    "number %= mod_num\n",
    "print number\n",
    "\n",
    "number /= div_num\n",
    "print number\n",
    "\n",
    "print \"Original number was\", original_number\n",
    "print \"The new number is\", number"
   ]
  },
  {
   "cell_type": "markdown",
   "metadata": {},
   "source": [
    "Soooooooooo much cleaner right?\n",
    "Variables can be used so you don't need to memorize these huge numbers, or anything else this super huge."
   ]
  }
 ],
 "metadata": {
  "kernelspec": {
   "display_name": "Python 2",
   "language": "python",
   "name": "python2"
  },
  "language_info": {
   "codemirror_mode": {
    "name": "ipython",
    "version": 2
   },
   "file_extension": ".py",
   "mimetype": "text/x-python",
   "name": "python",
   "nbconvert_exporter": "python",
   "pygments_lexer": "ipython2",
   "version": "2.7.11"
  }
 },
 "nbformat": 4,
 "nbformat_minor": 0
}
